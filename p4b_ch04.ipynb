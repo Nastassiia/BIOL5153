{
 "cells": [
  {
   "cell_type": "code",
   "execution_count": 1,
   "metadata": {
    "collapsed": true
   },
   "outputs": [],
   "source": [
    "#create a list of some elements\n",
    "apes = [\"Homo sapiens\", \"Pan troglodytes\", \"Gorilla gorilla\"]\n",
    "conserved_sites = [24, 56, 132]"
   ]
  },
  {
   "cell_type": "code",
   "execution_count": 3,
   "metadata": {
    "collapsed": false
   },
   "outputs": [
    {
     "name": "stdout",
     "output_type": "stream",
     "text": [
      "Homo sapiens\n",
      "132\n"
     ]
    }
   ],
   "source": [
    "#element indexes at the list are zero based\n",
    "print(apes[0])\n",
    "print(conserved_sites[2])"
   ]
  },
  {
   "cell_type": "code",
   "execution_count": 6,
   "metadata": {
    "collapsed": false
   },
   "outputs": [
    {
     "data": {
      "text/plain": [
       "1"
      ]
     },
     "execution_count": 6,
     "metadata": {},
     "output_type": "execute_result"
    }
   ],
   "source": [
    "#print index of the known element in the list\n",
    "chimp_indes=apes.index(\"Pan troglodytes\")\n",
    "chimp_indes"
   ]
  },
  {
   "cell_type": "code",
   "execution_count": 8,
   "metadata": {
    "collapsed": false
   },
   "outputs": [
    {
     "data": {
      "text/plain": [
       "'Gorilla gorilla'"
      ]
     },
     "execution_count": 8,
     "metadata": {},
     "output_type": "execute_result"
    }
   ],
   "source": [
    "#negative indexes -retrieve object starting from the end\n",
    "apes[-1]"
   ]
  },
  {
   "cell_type": "code",
   "execution_count": 11,
   "metadata": {
    "collapsed": false
   },
   "outputs": [
    {
     "data": {
      "text/plain": [
       "['class', 'order', 'family']"
      ]
     },
     "execution_count": 11,
     "metadata": {},
     "output_type": "execute_result"
    }
   ],
   "source": [
    "#extract several elements from the list\n",
    "ranks = [\"kingdom\",\"phylum\", \"class\", \"order\", \"family\"]\n",
    "ranks_sub=ranks[2:5]\n",
    "ranks_sub"
   ]
  },
  {
   "cell_type": "code",
   "execution_count": 17,
   "metadata": {
    "collapsed": false
   },
   "outputs": [
    {
     "name": "stdout",
     "output_type": "stream",
     "text": [
      "4\n",
      "6\n"
     ]
    },
    {
     "data": {
      "text/plain": [
       "['Homo sapiens',\n",
       " 'Pan troglodytes',\n",
       " 'Gorilla gorilla',\n",
       " 'Pan paniscus',\n",
       " 'Papio ursinus',\n",
       " 'Macaca mulatta']"
      ]
     },
     "execution_count": 17,
     "metadata": {},
     "output_type": "execute_result"
    }
   ],
   "source": [
    "#append elements to the end of the list\n",
    "apes = [\"Homo sapiens\", \"Pan troglodytes\", \"Gorilla gorilla\"]\n",
    "apes.append(\"Pan paniscus\")\n",
    "#length of the list\n",
    "print(len(apes))\n",
    "#concatenate list\n",
    "monkeys = [\"Papio ursinus\", \"Macaca mulatta\"]\n",
    "primates = apes + monkeys\n",
    "print(len(primates))\n",
    "#append other list to the end of an existing list\n",
    "apes.extend(monkeys)\n",
    "apes"
   ]
  },
  {
   "cell_type": "code",
   "execution_count": 24,
   "metadata": {
    "collapsed": false
   },
   "outputs": [
    {
     "name": "stdout",
     "output_type": "stream",
     "text": [
      "['kingdom', 'phylum', 'class', 'order', 'family']\n",
      "['family', 'order', 'class', 'phylum', 'kingdom']\n",
      "['class', 'family', 'kingdom', 'order', 'phylum']\n"
     ]
    }
   ],
   "source": [
    "ranks = [\"kingdom\",\"phylum\", \"class\", \"order\", \"family\"]\n",
    "#reverse order list\n",
    "print(ranks)\n",
    "ranks.reverse()\n",
    "print(ranks)\n",
    "#sort by alphabet\n",
    "ranks.sort()\n",
    "print(ranks)"
   ]
  },
  {
   "cell_type": "code",
   "execution_count": 25,
   "metadata": {
    "collapsed": false
   },
   "outputs": [
    {
     "name": "stdout",
     "output_type": "stream",
     "text": [
      "Homo sapiens is ane ape\n",
      "Pan troglodytes is ane ape\n",
      "Gorilla gorilla is ane ape\n"
     ]
    }
   ],
   "source": [
    "apes = [\"Homo sapiens\", \"Pan troglodytes\", \"Gorilla gorilla\"]\n",
    "#make loops\n",
    "for ape in apes:\n",
    "    print(ape, \"is ane ape\")\n"
   ]
  },
  {
   "cell_type": "code",
   "execution_count": 26,
   "metadata": {
    "collapsed": false
   },
   "outputs": [
    {
     "name": "stdout",
     "output_type": "stream",
     "text": [
      "Homo sapiens is an ape. Name starts with H\n",
      "Its name has 12 letters\n",
      "Pan troglodytes is an ape. Name starts with P\n",
      "Its name has 15 letters\n",
      "Gorilla gorilla is an ape. Name starts with G\n",
      "Its name has 15 letters\n"
     ]
    }
   ],
   "source": [
    "for ape in apes:\n",
    "    name_len=len(ape)\n",
    "    first_letter=ape[0]\n",
    "    print(ape, \"is an ape. Name starts with\", first_letter)\n",
    "    print(\"Its name has\", name_len, \"letters\")"
   ]
  },
  {
   "cell_type": "code",
   "execution_count": 27,
   "metadata": {
    "collapsed": false
   },
   "outputs": [
    {
     "name": "stdout",
     "output_type": "stream",
     "text": [
      "m\n",
      "a\n",
      "r\n",
      "t\n",
      "i\n",
      "n\n"
     ]
    }
   ],
   "source": [
    "#treating strings as lists\n",
    "name=\"martin\"\n",
    "for char in name:\n",
    "    print(char)"
   ]
  },
  {
   "cell_type": "code",
   "execution_count": 29,
   "metadata": {
    "collapsed": false
   },
   "outputs": [
    {
     "name": "stdout",
     "output_type": "stream",
     "text": [
      "['melanogaster', 'simulans', 'yakuba', 'ananassae']\n"
     ]
    }
   ],
   "source": [
    "#split string to make a list\n",
    "names = \"melanogaster,simulans,yakuba,ananassae\"\n",
    "species=names.split(\",\")\n",
    "print(species)"
   ]
  },
  {
   "cell_type": "code",
   "execution_count": 37,
   "metadata": {
    "collapsed": false
   },
   "outputs": [
    {
     "name": "stdout",
     "output_type": "stream",
     "text": [
      "vls\n",
      "vlsp\n",
      "vlspa\n",
      "vlspad\n",
      "vlspadk\n",
      "vlspadkt\n",
      "vlspadktn\n"
     ]
    }
   ],
   "source": [
    "#looping with ranges\n",
    "protein = \"vlspadktnv\"\n",
    "for num in range(3,len(protein)):\n",
    "    print(protein[0:num])"
   ]
  }
 ],
 "metadata": {
  "kernelspec": {
   "display_name": "Python 3",
   "language": "python",
   "name": "python3"
  },
  "language_info": {
   "codemirror_mode": {
    "name": "ipython",
    "version": 3
   },
   "file_extension": ".py",
   "mimetype": "text/x-python",
   "name": "python",
   "nbconvert_exporter": "python",
   "pygments_lexer": "ipython3",
   "version": "3.6.1"
  }
 },
 "nbformat": 4,
 "nbformat_minor": 2
}
