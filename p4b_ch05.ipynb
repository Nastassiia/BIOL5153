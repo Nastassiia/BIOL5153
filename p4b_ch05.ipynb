{
 "cells": [
  {
   "cell_type": "code",
   "execution_count": 2,
   "metadata": {
    "collapsed": true
   },
   "outputs": [],
   "source": [
    "# write the function for analysing AT content\n",
    "def get_at_content(dna):\n",
    "    length = len(dna)\n",
    "    a_count = dna.count('A')\n",
    "    t_count = dna.count('T')\n",
    "    at_content = (a_count + t_count) / length\n",
    "    return at_content"
   ]
  },
  {
   "cell_type": "code",
   "execution_count": 7,
   "metadata": {
    "collapsed": false
   },
   "outputs": [
    {
     "name": "stdout",
     "output_type": "stream",
     "text": [
      "AT content is 0.5\n"
     ]
    }
   ],
   "source": [
    "# execute the function\n",
    "get_at_content(\"ATGACTGGACCA\")\n",
    "print(\"AT content is \" + str(get_at_content(\"ATGACTGGACCA\")))"
   ]
  },
  {
   "cell_type": "code",
   "execution_count": 9,
   "metadata": {
    "collapsed": false
   },
   "outputs": [
    {
     "name": "stdout",
     "output_type": "stream",
     "text": [
      "0.45\n",
      "0.5294117647058824\n",
      "0.0\n"
     ]
    }
   ],
   "source": [
    "#fix the problems\n",
    "my_at_content = get_at_content(\"ATGCGCGATCGATCGAATCG\")\n",
    "print(str(my_at_content))\n",
    "print(get_at_content(\"ATGCATGCAACTGTAGC\"))\n",
    "print(get_at_content(\"aactgtagctagctagcagcgta\"))"
   ]
  },
  {
   "cell_type": "code",
   "execution_count": 10,
   "metadata": {
    "collapsed": false
   },
   "outputs": [
    {
     "name": "stdout",
     "output_type": "stream",
     "text": [
      "0.5\n",
      "0.53\n",
      "0.529\n"
     ]
    }
   ],
   "source": [
    "# round up output and add it in argument list \n",
    "def get_at_content(dna, sig_figs):\n",
    "    length = len(dna)\n",
    "    a_count = dna.upper().count('A')\n",
    "    t_count = dna.upper().count('T')\n",
    "    at_content = (a_count + t_count) / length\n",
    "    return round(at_content, sig_figs)\n",
    "test_dna = \"ATGCATGCAACTGTAGC\"\n",
    "print(get_at_content(test_dna, 1))\n",
    "print(get_at_content(test_dna, 2))\n",
    "print(get_at_content(test_dna, 3))"
   ]
  },
  {
   "cell_type": "code",
   "execution_count": 14,
   "metadata": {
    "collapsed": false
   },
   "outputs": [
    {
     "name": "stdout",
     "output_type": "stream",
     "text": [
      "0.45\n",
      "0.45\n",
      "0.45\n"
     ]
    }
   ],
   "source": [
    "# use keyword arguments\n",
    "a=get_at_content(\"ATCGTGACTCG\", 2)\n",
    "print(a)\n",
    "a=get_at_content(dna=\"ATCGTGACTCG\", sig_figs=2)\n",
    "print(a)\n",
    "a=get_at_content(\"ATCGTGACTCG\", sig_figs=2)\n",
    "print(a)\n"
   ]
  },
  {
   "cell_type": "code",
   "execution_count": 16,
   "metadata": {
    "collapsed": false
   },
   "outputs": [
    {
     "name": "stdout",
     "output_type": "stream",
     "text": [
      "0.45\n",
      "0.455\n",
      "0.4545\n"
     ]
    }
   ],
   "source": [
    "# function arguments with default values \n",
    "def get_at_content(dna, sig_figs=2):\n",
    "    length = len(dna)\n",
    "    a_count = dna.upper().count('A')\n",
    "    t_count = dna.upper().count('T')\n",
    "    at_content = (a_count + t_count) / length\n",
    "    return round(at_content, sig_figs)\n",
    "a=get_at_content(\"ATCGTGACTCG\")\n",
    "print(a)\n",
    "a=get_at_content(\"ATCGTGACTCG\", 3)\n",
    "print(a)\n",
    "a=get_at_content(\"ATCGTGACTCG\", sig_figs=4)\n",
    "print(a)"
   ]
  },
  {
   "cell_type": "code",
   "execution_count": 18,
   "metadata": {
    "collapsed": true
   },
   "outputs": [],
   "source": [
    "# test the function with assert comparing to output values correctness of which we know\n",
    "assert get_at_content(\"ATGC\") == 0.5\n",
    "#modify for Ns in input \n",
    "def get_at_content(dna, sig_figs=2):\n",
    "    dna = dna.replace('N', '')\n",
    "    length = len(dna)\n",
    "    a_count = dna.upper().count('A')\n",
    "    t_count = dna.upper().count('T')\n",
    "    at_content = (a_count + t_count) / length\n",
    "    return round(at_content, sig_figs)\n",
    "\n"
   ]
  },
  {
   "cell_type": "code",
   "execution_count": 19,
   "metadata": {
    "collapsed": true
   },
   "outputs": [],
   "source": [
    "# different asserts\n",
    "assert get_at_content(\"A\") == 1\n",
    "assert get_at_content(\"G\") == 0\n",
    "assert get_at_content(\"ATGC\") == 0.5\n",
    "assert get_at_content(\"AGG\") == 0.33\n",
    "assert get_at_content(\"AGG\", 1) == 0.3\n",
    "assert get_at_content(\"AGG\", 5) == 0.33333\n",
    "\n",
    "\n",
    "\n",
    "\n"
   ]
  },
  {
   "cell_type": "code",
   "execution_count": null,
   "metadata": {
    "collapsed": true
   },
   "outputs": [],
   "source": []
  }
 ],
 "metadata": {
  "kernelspec": {
   "display_name": "Python 3",
   "language": "python",
   "name": "python3"
  },
  "language_info": {
   "codemirror_mode": {
    "name": "ipython",
    "version": 3
   },
   "file_extension": ".py",
   "mimetype": "text/x-python",
   "name": "python",
   "nbconvert_exporter": "python",
   "pygments_lexer": "ipython3",
   "version": "3.6.1"
  }
 },
 "nbformat": 4,
 "nbformat_minor": 2
}
