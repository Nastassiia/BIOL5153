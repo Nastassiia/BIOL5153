{
 "cells": [
  {
   "cell_type": "code",
   "execution_count": 2,
   "metadata": {
    "collapsed": false
   },
   "outputs": [
    {
     "name": "stdout",
     "output_type": "stream",
     "text": [
      "something\n",
      "something\n"
     ]
    }
   ],
   "source": [
    "#Printing a message to the screen\n",
    "print(\"something\")\n",
    "print('something')"
   ]
  },
  {
   "cell_type": "code",
   "execution_count": 6,
   "metadata": {
    "collapsed": false
   },
   "outputs": [
    {
     "name": "stdout",
     "output_type": "stream",
     "text": [
      "something in 'single quotes'\n",
      "something in \"double quotes\"\n",
      "something\n",
      "on new line\n"
     ]
    }
   ],
   "source": [
    "print(\"something in 'single quotes'\")\n",
    "print('something in \"double quotes\"')\n",
    "print(\"something\\non new line\")"
   ]
  },
  {
   "cell_type": "code",
   "execution_count": 5,
   "metadata": {
    "collapsed": false
   },
   "outputs": [
    {
     "name": "stdout",
     "output_type": "stream",
     "text": [
      "ATGCGTA\n",
      "TGGTCCA\n"
     ]
    }
   ],
   "source": [
    "#Storing strings in variables\n",
    "my_dna = \"ATGCGTA\"\n",
    "print(my_dna)\n",
    "# change the variable\n",
    "my_dna = \"TGGTCCA\"\n",
    "print(my_dna)"
   ]
  },
  {
   "cell_type": "code",
   "execution_count": 8,
   "metadata": {
    "collapsed": false
   },
   "outputs": [
    {
     "name": "stdout",
     "output_type": "stream",
     "text": [
      "AATTGGCC\n",
      "AAAATGC\n",
      "AAAATGCGGG\n"
     ]
    }
   ],
   "source": [
    "# concatenation of strings\n",
    "my_dna = \"AATT\" + \"GGCC\"\n",
    "print(my_dna)\n",
    "\n",
    "# use variables as strings\n",
    "upstream = \"AAA\"\n",
    "my_dna = upstream + \"ATGC\"\n",
    "print(my_dna)\n",
    "\n",
    "#join multiple strings\n",
    "upstream = \"AAA\"\n",
    "downstream = \"GGG\"\n",
    "my_dna = upstream + \"ATGC\" + downstream\n",
    "print(my_dna)"
   ]
  },
  {
   "cell_type": "code",
   "execution_count": 9,
   "metadata": {
    "collapsed": false
   },
   "outputs": [
    {
     "name": "stdout",
     "output_type": "stream",
     "text": [
      "4\n",
      "4\n"
     ]
    }
   ],
   "source": [
    "#length of the string\n",
    "dna_length = len(\"AGTC\")\n",
    "print(dna_length)\n",
    "print(len(\"AGTC\"))"
   ]
  },
  {
   "cell_type": "code",
   "execution_count": 10,
   "metadata": {
    "collapsed": false
   },
   "outputs": [
    {
     "name": "stdout",
     "output_type": "stream",
     "text": [
      "The length of the DNA sequence is 4\n"
     ]
    }
   ],
   "source": [
    "#print number as a string\n",
    "print(\"The length of the DNA sequence is \" + str(dna_length))"
   ]
  },
  {
   "cell_type": "code",
   "execution_count": 12,
   "metadata": {
    "collapsed": false
   },
   "outputs": [
    {
     "name": "stdout",
     "output_type": "stream",
     "text": [
      "atgc\n",
      "ATGC\n"
     ]
    }
   ],
   "source": [
    "#change case\n",
    "my_dna = \"ATgc\"\n",
    "print(my_dna.lower())\n",
    "print(my_dna.upper())"
   ]
  },
  {
   "cell_type": "code",
   "execution_count": 13,
   "metadata": {
    "collapsed": false
   },
   "outputs": [
    {
     "name": "stdout",
     "output_type": "stream",
     "text": [
      "before: ATgc\n",
      "after: ATgc\n"
     ]
    }
   ],
   "source": [
    "#method does not change the variable\n",
    "print(\"before: \" + my_dna)\n",
    "lowercase_dna = my_dna.lower()\n",
    "print(\"after: \" + my_dna)"
   ]
  },
  {
   "cell_type": "code",
   "execution_count": 14,
   "metadata": {
    "collapsed": false
   },
   "outputs": [
    {
     "name": "stdout",
     "output_type": "stream",
     "text": [
      "ylspadktny\n",
      "ymtpadktnv\n",
      "vlspadktnv\n"
     ]
    }
   ],
   "source": [
    "#Replacements\n",
    "protein = \"vlspadktnv\"\n",
    "# replace v with y\n",
    "print(protein.replace(\"v\", \"y\"))\n",
    "# replace substrings\n",
    "print(protein.replace(\"vls\", \"ymt\"))\n",
    "# the original variable is not affected\n",
    "print(protein)"
   ]
  },
  {
   "cell_type": "code",
   "execution_count": 17,
   "metadata": {
    "collapsed": false
   },
   "outputs": [
    {
     "name": "stdout",
     "output_type": "stream",
     "text": [
      "pa\n",
      "vlspad\n",
      "vlspadktnv\n",
      "v\n"
     ]
    }
   ],
   "source": [
    "#Extracting part of a string\n",
    "protein = \"vlspadktnv\"\n",
    "# print positions 3-5\n",
    "print(protein[3:5])\n",
    "# positions are zero-based\n",
    "print(protein[0:6])\n",
    "# if we use a stop position beyond the end, it's the same as using the end\n",
    "print(protein[0:60])\n",
    "#and again -zero based\n",
    "protein = \"vlspadktnv\"\n",
    "first_residue = protein[0]\n",
    "print(first_residue)"
   ]
  },
  {
   "cell_type": "code",
   "execution_count": 18,
   "metadata": {
    "collapsed": false
   },
   "outputs": [
    {
     "name": "stdout",
     "output_type": "stream",
     "text": [
      "valines: 2\n",
      "lsp: 1\n",
      "tryptophans: 0\n"
     ]
    }
   ],
   "source": [
    "#Counting and finding substrings\n",
    "protein = \"vlspadktnv\"\n",
    "# count amino acid residues\n",
    "valine_count = protein.count('v')\n",
    "lsp_count = protein.count('lsp')\n",
    "tryptophan_count = protein.count('w')\n",
    "\n",
    "# now print the counts\n",
    "print(\"valines: \" + str(valine_count))\n",
    "print(\"lsp: \" + str(lsp_count))\n",
    "print(\"tryptophans: \" + str(tryptophan_count))\n"
   ]
  },
  {
   "cell_type": "code",
   "execution_count": 19,
   "metadata": {
    "collapsed": false
   },
   "outputs": [
    {
     "name": "stdout",
     "output_type": "stream",
     "text": [
      "3\n",
      "6\n",
      "-1\n"
     ]
    }
   ],
   "source": [
    "#find location of the first occurence of the character(s)\n",
    "protein = \"vlspadktnv\"\n",
    "print(str(protein.find('p')))\n",
    "print(str(protein.find('kt')))\n",
    "print(str(protein.find('w')))"
   ]
  },
  {
   "cell_type": "code",
   "execution_count": null,
   "metadata": {
    "collapsed": true
   },
   "outputs": [],
   "source": []
  }
 ],
 "metadata": {
  "kernelspec": {
   "display_name": "Python 3",
   "language": "python",
   "name": "python3"
  },
  "language_info": {
   "codemirror_mode": {
    "name": "ipython",
    "version": 3
   },
   "file_extension": ".py",
   "mimetype": "text/x-python",
   "name": "python",
   "nbconvert_exporter": "python",
   "pygments_lexer": "ipython3",
   "version": "3.6.1"
  }
 },
 "nbformat": 4,
 "nbformat_minor": 2
}
