{
 "cells": [
  {
   "cell_type": "code",
   "execution_count": 5,
   "metadata": {
    "collapsed": false
   },
   "outputs": [],
   "source": [
    "import os\n",
    "os.chdir('/home/nata/Desktop/2ndSem/PractProgr/python/')"
   ]
  },
  {
   "cell_type": "code",
   "execution_count": 11,
   "metadata": {
    "collapsed": false
   },
   "outputs": [
    {
     "name": "stdout",
     "output_type": "stream",
     "text": [
      "CATGCATGTCTAAGTATAAATATCTTACTGTGAAACTGCGAACGGCTCATTATATCA\n",
      "\n",
      "\n"
     ]
    }
   ],
   "source": [
    "#Using open to read a file\n",
    "my_file=open('dna.txt')\n",
    "\n",
    "#actually read the content of the file\n",
    "file_contents = my_file.read()\n",
    "print(file_contents)"
   ]
  },
  {
   "cell_type": "code",
   "execution_count": 12,
   "metadata": {
    "collapsed": false
   },
   "outputs": [
    {
     "name": "stdout",
     "output_type": "stream",
     "text": [
      "sequence is CATGCATGTCTAAGTATAAATATCTTACTGTGAAACTGCGAACGGCTCATTATATCA\n",
      "\n",
      " and length is 59\n"
     ]
    }
   ],
   "source": [
    "#Print out the length of the sequence \n",
    "my_dna = my_file.read()\n",
    "dna_length = len(my_dna)\n",
    "# print the output\n",
    "print(\"sequence is \" + my_dna +\n",
    "\" and length is \" + str(dna_length))"
   ]
  },
  {
   "cell_type": "code",
   "execution_count": 22,
   "metadata": {
    "collapsed": false
   },
   "outputs": [
    {
     "name": "stdout",
     "output_type": "stream",
     "text": [
      "sequence is CATGCATGTCTAAGTATAAATATCTTACTGTGAAACTGCGAACGGCTCATTATATCA and length is 57\n"
     ]
    }
   ],
   "source": [
    "#Dealing with the newlines\n",
    "# remove the newline from the end of the file contents\n",
    "my_file = open(\"dna.txt\")\n",
    "my_file_contents = my_file.read()\n",
    "my_dna = my_file_contents.rstrip(\"\\n\")\n",
    "dna_length = len(my_dna)\n",
    "print(\"sequence is \" + my_dna + \" and length is \" + str(dna_length))\n"
   ]
  },
  {
   "cell_type": "code",
   "execution_count": 26,
   "metadata": {
    "collapsed": false
   },
   "outputs": [
    {
     "name": "stdout",
     "output_type": "stream",
     "text": [
      "sequence is CATGCATGTCTAAGTATAAATATCTTACTGTGAAACTGCGAACGGCTCATTATATCA and length is 57\n"
     ]
    }
   ],
   "source": [
    "#make it in one line\n",
    "my_file = open(\"dna.txt\")\n",
    "my_dna = my_file.read().rstrip(\"\\n\")\n",
    "dna_length = len(my_dna)\n",
    "print(\"sequence is \" + my_dna + \" and length is \" + str(dna_length))"
   ]
  },
  {
   "cell_type": "code",
   "execution_count": 28,
   "metadata": {
    "collapsed": false,
    "scrolled": false
   },
   "outputs": [
    {
     "data": {
      "text/plain": [
       "11"
      ]
     },
     "execution_count": 28,
     "metadata": {},
     "output_type": "execute_result"
    }
   ],
   "source": [
    "#opening files for writing\n",
    "my_file = open(\"out.txt\", \"w\")\n",
    "my_file.write(\"Hello world\")"
   ]
  },
  {
   "cell_type": "code",
   "execution_count": 39,
   "metadata": {
    "collapsed": false
   },
   "outputs": [
    {
     "data": {
      "text/plain": [
       "5"
      ]
     },
     "execution_count": 39,
     "metadata": {},
     "output_type": "execute_result"
    }
   ],
   "source": [
    "#write anything to the file\n",
    "my_file = open(\"out.txt\", \"w\")\n",
    "my_file.write(\"abc\" + \"def\\n\")\n",
    "my_file.write(str(len('AGTGCTAG')))\n",
    "my_file.write(\"\\nATGC\".replace('A', 'T'))\n",
    "my_file.write(\"\\nATGC\".lower())\n",
    "# write contents of my_variable\n",
    "#my_file.write(my_variable)"
   ]
  },
  {
   "cell_type": "code",
   "execution_count": 40,
   "metadata": {
    "collapsed": true
   },
   "outputs": [],
   "source": [
    "#closing files\n",
    "my_file = open(\"out.txt\", \"w\")\n",
    "my_file.write(\"Hello world\")\n",
    "my_file.close()"
   ]
  },
  {
   "cell_type": "code",
   "execution_count": 42,
   "metadata": {
    "collapsed": false
   },
   "outputs": [],
   "source": [
    "#Paths and folders\n",
    "my_file=open(\"/home/nata/Desktop/2ndSem/PractProgr/python/dna.txt\")"
   ]
  }
 ],
 "metadata": {
  "kernelspec": {
   "display_name": "Python 3",
   "language": "python",
   "name": "python3"
  },
  "language_info": {
   "codemirror_mode": {
    "name": "ipython",
    "version": 3
   },
   "file_extension": ".py",
   "mimetype": "text/x-python",
   "name": "python",
   "nbconvert_exporter": "python",
   "pygments_lexer": "ipython3",
   "version": "3.6.1"
  }
 },
 "nbformat": 4,
 "nbformat_minor": 2
}
